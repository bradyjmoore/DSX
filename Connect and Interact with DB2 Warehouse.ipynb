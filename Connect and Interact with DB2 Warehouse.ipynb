{
    "nbformat": 4, 
    "cells": [
        {
            "source": "\n# Access DB2 Warehouse on Cloud and explore the data with Python\n\nThis notebook shows how to access a DB2 data warehouse or DB2 database when using Python. The examples use a DB2 warehouse, but the instructions apply to both DB2 Warehouse and DB2.\n\n\n\n## Table of contents\n\n1. [Info](#Info)\n1. [Create Version](#Version)\n1. [Setup](#Setup) \n1. [Import the *ibmdbpy* Python library](#Import-the-ibmdbpy-Python-library)\n1. [Insert the database connection credentials](#Insert-the-database-connection-credentials)\n1. [Create the database connection](#Create-the-database-connection)\n1. [Use dataframe to read and manipulate tables](#Use-dataframe-to-read-and-manipulate-tables)\n1. [Use SQL](#Use-SQL)\n1. [Explore the trafficking data](#Explore-the-trafficking-data)\n1. [Close the database connection](#Close-the-database-connection)\n1. [Share the notebook](#Share)\n1. [Save to GitHub](#GitHub)\n1. [Help](#Help)\n1. [Summary](#Summary)\n\n<a id=\"Info\"></a>\n## Info\nSelect the Info icon to display general information about the notebook. <br>\n<img alt=\"IBM Bluemix.Get started now\" src=\"https://raw.githubusercontent.com/jpatter/DSX/master/Lab-1/images/info-button.png\" ><br>\nYou can change the notebook name or add a description here.   You can also flag that the notebook can run with your privileges (Trusted Notebook).   If you run all cells of the notebook it is also considered trusted.\n<img alt=\"IBM Bluemix.Get started now\" src=\"https://raw.githubusercontent.com/jpatter/DSX/master/Lab-1/images/Info.PNG\" >\n\n<a id=\"Version\"></a>\n## Create Version \n\nSave a version of the notebook by selecting File > Save Version \n<img alt=\"IBM Bluemix.Get started now\" src=\"https://raw.githubusercontent.com/jpatter/DSX/master/Lab-1/images/FileOptions.PNG\" > or by selecting the Versions icon. <img alt=\"IBM Bluemix.Get started now\" src=\"https://raw.githubusercontent.com/jpatter/DSX/master/Lab-1/images/versions-button.png\" ><br>\nYou can have up to ten (10) versions of a notebook.   Notebook versions are saved in a FIFO manner.\n\n<a id=\"Setup\"></a>\n## Setup\n\nBefore beginning you will need a *DB2 Warehouse on Cloud* instance. DB2 Warehouse is a fully managed cloud data warehouse, purpose-built for analytics. It offers massively parallel processing (MPP) scale and compatibility with a wide range of business intelligence (BI) tools.  \n\n1. __RIGHT-CLICK__ [this link](https://github.com/jpatter/DSX/raw/master/Lab-1/data/Female-human-trafficking.csv) and select __Save Link As...__ to save the `Female-human-trafficking.csv` file to your desktop.\n1. Download the [DB2 Warehouse setup instructions](https://github.com/jpatter/DSX/blob/master/Lab-1/DB2Warehouse_DSXPOT.pdf).  You need to download the PDF in order for the links to work.\n1. Open up the PDF file that you've just downloaded in the previous step and follow the instructions there to setup DB2 Warehouse, load the human trafficking data and create a DSX data connection.\n\n<a class=\"ibm-tooltip\" href=\"https://console.ng.bluemix.net/catalog/services/dashdb\" target=\"_blank\" title=\"\" id=\"ibm-tooltip-0\">\n<img alt=\"IBM Bluemix.Get started now\" src=\"https://raw.githubusercontent.com/jpatter/DSX/master/Lab-1/images/DB2Warehouse.png\" >\n</a>\n\n<a id=\"Import-the-ibmdbpy-Python-library\"></a>\n## Import the *ibmdbpy* Python library\n\nPython support for DB Warehouse and DB2 is provided by the [ibmdbpy Python library](https://pypi.python.org/pypi/ibmdbpy). Connecting to DB2 Warehouse or DB2 is also enabled by a DB2 driver, libdb2.so.  The ibmdbpy project provides a Python interface for data manipulation and access to in-database algorithms in IBM DB2 Warehouse and IBM DB2. It accelerates Python analytics by seamlessly pushing operations written in Python into the underlying database for execution, thereby benefitting from in-database performance-enhancing features, such as columnar storage and parallel processing.\n\n### Setup a *JDBC* connection\nThe JDBC Connection is based on a Java virtual machine. From the ibmdbpy library you can use JDBC to connect to a remote DB2 Warehouse/DB2 instance. To be able to use JDBC to connect, we need to import the *JayDeBeApi* package and we need to add the DB2 Warehouse/DB2 data connector jar file to the java class path.\n\nTo run a cell, click on the cell and click the run button in the toolbar or press __SHIFT-ENTER__.\n\nRun the following commands to install and load the `JayDeBeApi` package and the `ibmdbpy` library into your notebook:", 
            "cell_type": "markdown", 
            "metadata": {}
        }, 
        {
            "source": "import jaydebeapi\nfrom ibmdbpy import IdaDataBase\nfrom ibmdbpy import IdaDataFrame", 
            "cell_type": "code", 
            "metadata": {}, 
            "execution_count": 1, 
            "outputs": []
        }, 
        {
            "source": "import pixiedust", 
            "cell_type": "code", 
            "metadata": {}, 
            "execution_count": 2, 
            "outputs": [
                {
                    "name": "stdout", 
                    "output_type": "stream", 
                    "text": "Pixiedust database opened successfully\nTable VERSION_TRACKER created successfully\n"
                }, 
                {
                    "data": {
                        "text/plain": "<IPython.core.display.HTML object>", 
                        "text/html": "\n        <div style=\"margin:10px\">\n            <a href=\"https://github.com/ibm-watson-data-lab/pixiedust\" target=\"_new\">\n                <img src=\"https://github.com/ibm-watson-data-lab/pixiedust/raw/master/docs/_static/pd_icon32.png\" style=\"float:left;margin-right:10px\"/>\n            </a>\n            <span>Pixiedust version 1.1.2</span>\n        </div>\n        "
                    }, 
                    "metadata": {}, 
                    "output_type": "display_data"
                }, 
                {
                    "name": "stdout", 
                    "output_type": "stream", 
                    "text": "Pixiedust runtime updated. Please restart kernel\nTable SPARK_PACKAGES created successfully\nTable USER_PREFERENCES created successfully\nTable service_connections created successfully\n"
                }, 
                {
                    "data": {
                        "text/plain": "<IPython.core.display.HTML object>", 
                        "text/html": "<div>Warning: You are not running the latest version of PixieDust. Current is 1.1.2, Latest is 1.1.3</div>"
                    }, 
                    "metadata": {}, 
                    "output_type": "display_data"
                }, 
                {
                    "data": {
                        "text/plain": "<IPython.core.display.HTML object>", 
                        "text/html": "\n                <div>Please copy and run the following command in a new cell to upgrade: <span style=\"background-color:#ececec;font-family:monospace;padding:0 5px\">!pip install --user --upgrade pixiedust</span></div>\n            "
                    }, 
                    "metadata": {}, 
                    "output_type": "display_data"
                }, 
                {
                    "data": {
                        "text/plain": "<IPython.core.display.HTML object>", 
                        "text/html": "<div>Please restart kernel after upgrading.</div>"
                    }, 
                    "metadata": {}, 
                    "output_type": "display_data"
                }
            ]
        }, 
        {
            "source": "# connection jar for DB2 Warehouse on Cloud -- you may have to restart the kernel and re-run cells.   If you do, a warning will appear.\n# no longer needed -- comment out for now\n#pixiedust.installPackage(\"file:///usr/local/src/data-connectors-1.4.1/db2jcc4-10.5.0.6.jar\")", 
            "cell_type": "code", 
            "metadata": {
                "collapsed": true
            }, 
            "execution_count": null, 
            "outputs": []
        }, 
        {
            "source": "<a id=\"Insert-the-database-connection-credentials\"></a>\n## Insert the database connection credentials\n\nClick on the cell below, then on the notebook toolbar, click the box of 1's and 0's, find your database connection and click the __Insert to code__ link under the connection name to have a `credentials_1` dictionary added to the notebook.\n\n<img alt=\"IBM Bluemix.Get started now\" src=\"https://raw.githubusercontent.com/jpatter/DSX/master/Lab-1/images/connections-button.png\" >\n\n__Note__: When this dictionary is inserted, it might have a different name than `credentials_1`.  If so change the dictionary name to `credentials_1` so that the rest of the notebook will work.\n\nConnecting to DB2 Warehouse requires the following information which are provided by the credentials dictionary inserted:\n* Database name \n* Host DNS name or IP address \n* Host port\n* Connection protocol\n* User ID\n* User password\n\nThe information `credentials_1` will be used to build a connection string in a subsequent step.", 
            "cell_type": "markdown", 
            "metadata": {}
        }, 
        {
            "source": "# The code was removed by DSX for sharing.", 
            "cell_type": "code", 
            "metadata": {}, 
            "execution_count": 3, 
            "outputs": []
        }, 
        {
            "source": "<a id=\"Create-the-database-connection\"></a>\n## Create the database connection\n\nThe following code snippet creates a connection string `connection_string`\nand uses the `connection_string` to create a database connection object:\n", 
            "cell_type": "markdown", 
            "metadata": {}
        }, 
        {
            "source": "connection_string='DASHDB;Database={db};Hostname={hostname};Port={port};PROTOCOL=TCPIP;UID={username};PWD={password}'.format(**credentials_1)\nidadb = IdaDataBase(dsn=connection_string)", 
            "cell_type": "code", 
            "metadata": {}, 
            "execution_count": 4, 
            "outputs": []
        }, 
        {
            "source": "<a id=\"Use-dataframe-to-read-and-manipulate-tables\"></a>\n## Use a dataframe to read and manipulate tables\n\nYou can now use the connection object `idadb` to query the database:", 
            "cell_type": "markdown", 
            "metadata": {}
        }, 
        {
            "source": "df = idadb.show_tables(show_all = True)\ndf.head(10)", 
            "cell_type": "code", 
            "metadata": {}, 
            "execution_count": 5, 
            "outputs": [
                {
                    "data": {
                        "text/plain": "  TABSCHEMA                   TABNAME     OWNER TYPE\n0  DASH5493  FEMALE_HUMAN_TRAFFICKING  DASH5493    T\n1   GOSALES                    BRANCH  DB2INST1    T\n2   GOSALES           CONVERSION_RATE  DB2INST1    T\n3   GOSALES                   COUNTRY  DB2INST1    T\n4   GOSALES           CURRENCY_LOOKUP  DB2INST1    T\n5   GOSALES           EURO_CONVERSION  DB2INST1    T\n6   GOSALES          INVENTORY_LEVELS  DB2INST1    T\n7   GOSALES             ORDER_DETAILS  DB2INST1    T\n8   GOSALES              ORDER_HEADER  DB2INST1    T\n9   GOSALES              ORDER_METHOD  DB2INST1    T", 
                        "text/html": "<div>\n<table border=\"1\" class=\"dataframe\">\n  <thead>\n    <tr style=\"text-align: right;\">\n      <th></th>\n      <th>TABSCHEMA</th>\n      <th>TABNAME</th>\n      <th>OWNER</th>\n      <th>TYPE</th>\n    </tr>\n  </thead>\n  <tbody>\n    <tr>\n      <th>0</th>\n      <td>DASH5493</td>\n      <td>FEMALE_HUMAN_TRAFFICKING</td>\n      <td>DASH5493</td>\n      <td>T</td>\n    </tr>\n    <tr>\n      <th>1</th>\n      <td>GOSALES</td>\n      <td>BRANCH</td>\n      <td>DB2INST1</td>\n      <td>T</td>\n    </tr>\n    <tr>\n      <th>2</th>\n      <td>GOSALES</td>\n      <td>CONVERSION_RATE</td>\n      <td>DB2INST1</td>\n      <td>T</td>\n    </tr>\n    <tr>\n      <th>3</th>\n      <td>GOSALES</td>\n      <td>COUNTRY</td>\n      <td>DB2INST1</td>\n      <td>T</td>\n    </tr>\n    <tr>\n      <th>4</th>\n      <td>GOSALES</td>\n      <td>CURRENCY_LOOKUP</td>\n      <td>DB2INST1</td>\n      <td>T</td>\n    </tr>\n    <tr>\n      <th>5</th>\n      <td>GOSALES</td>\n      <td>EURO_CONVERSION</td>\n      <td>DB2INST1</td>\n      <td>T</td>\n    </tr>\n    <tr>\n      <th>6</th>\n      <td>GOSALES</td>\n      <td>INVENTORY_LEVELS</td>\n      <td>DB2INST1</td>\n      <td>T</td>\n    </tr>\n    <tr>\n      <th>7</th>\n      <td>GOSALES</td>\n      <td>ORDER_DETAILS</td>\n      <td>DB2INST1</td>\n      <td>T</td>\n    </tr>\n    <tr>\n      <th>8</th>\n      <td>GOSALES</td>\n      <td>ORDER_HEADER</td>\n      <td>DB2INST1</td>\n      <td>T</td>\n    </tr>\n    <tr>\n      <th>9</th>\n      <td>GOSALES</td>\n      <td>ORDER_METHOD</td>\n      <td>DB2INST1</td>\n      <td>T</td>\n    </tr>\n  </tbody>\n</table>\n</div>"
                    }, 
                    "execution_count": 5, 
                    "metadata": {}, 
                    "output_type": "execute_result"
                }
            ]
        }, 
        {
            "source": "idadb.exists_table_or_view('GOSALESDW.EMP_EXPENSE_FACT')", 
            "cell_type": "code", 
            "metadata": {}, 
            "execution_count": 6, 
            "outputs": [
                {
                    "data": {
                        "text/plain": "True"
                    }, 
                    "execution_count": 6, 
                    "metadata": {}, 
                    "output_type": "execute_result"
                }
            ]
        }, 
        {
            "source": "Using our previously opened IdaDataBase instance named \u2018idadb\u2019, we can open one or several IdaDataFrame objects. They behave like pointers to remote tables.\n\nLet us open the *EMP_EXPENSE_FACT* data set, assuming it is stored in the database under the name \u2018GOSALESDW.EMP_EXPENSE_FACT\u2019. The following cell assigns the dataset to a IdaDataFrame.   IdaDataFrame copies the Pandas interface for DataFrame objects to ensure intuitive interaction for end-users.\n\nThe [Pandas data analysis library](http://pandas.pydata.org/) provides high-performance, easy-to-use data structures and data analysis tools for the Python programming language. Pandas allows easy processing and manipulation of tabular data, so it is a perfect fit for data extracted from relational databases.\n", 
            "cell_type": "markdown", 
            "metadata": {}
        }, 
        {
            "source": "idadf = IdaDataFrame(idadb, 'GOSALESDW.EMP_EXPENSE_FACT')", 
            "cell_type": "code", 
            "metadata": {}, 
            "execution_count": 7, 
            "outputs": []
        }, 
        {
            "source": "### Automatic creation of dataframes for tables<br>\n<div class=\"panel-group\" id=\"accordion-1\">\n  <div class=\"panel panel-default\">\n    <div class=\"panel-heading\">\n      <h4 class=\"panel-title\"><a data-toggle=\"collapse\" data-parent=\"#accordion-1\" href=\"#collapse1-1\">Optional Advanced:</a></h4>\n    </div>\n    <div id=\"collapse1-1\" class=\"panel-collapse collapse\">\n      <div class=\"panel-body\">\nTry adding the IdaDataFrame for the table in question from the Connections view -- do all the following commands still work?<br><br>\nTo add the dataframe, select the \"Find and Add Data\" icon (the one with 0 and 1s), select Connections, then \"Insert to code\" for the dataframe.    You will have to select the schema and table to use.\n\n      </div>\n    </div>\n  </div>\n</div>", 
            "cell_type": "markdown", 
            "metadata": {}
        }, 
        {
            "source": "# Try adding the dataframe here -- be sure to rename it to idadf so the following cells will still work\n", 
            "cell_type": "code", 
            "metadata": {}, 
            "execution_count": 8, 
            "outputs": []
        }, 
        {
            "source": "idadf.dtypes", 
            "cell_type": "code", 
            "metadata": {}, 
            "execution_count": 9, 
            "outputs": [
                {
                    "data": {
                        "text/plain": "                      TYPENAME\nDAY_KEY                INTEGER\nORGANIZATION_KEY       INTEGER\nPOSITION_KEY           INTEGER\nEMPLOYEE_KEY           INTEGER\nEXPENSE_TYPE_KEY       INTEGER\nACCOUNT_KEY            INTEGER\nEXPENSE_UNIT_QUANTITY   DOUBLE\nEXPENSE_TOTAL          DECIMAL", 
                        "text/html": "<div>\n<table border=\"1\" class=\"dataframe\">\n  <thead>\n    <tr style=\"text-align: right;\">\n      <th></th>\n      <th>TYPENAME</th>\n    </tr>\n  </thead>\n  <tbody>\n    <tr>\n      <th>DAY_KEY</th>\n      <td>INTEGER</td>\n    </tr>\n    <tr>\n      <th>ORGANIZATION_KEY</th>\n      <td>INTEGER</td>\n    </tr>\n    <tr>\n      <th>POSITION_KEY</th>\n      <td>INTEGER</td>\n    </tr>\n    <tr>\n      <th>EMPLOYEE_KEY</th>\n      <td>INTEGER</td>\n    </tr>\n    <tr>\n      <th>EXPENSE_TYPE_KEY</th>\n      <td>INTEGER</td>\n    </tr>\n    <tr>\n      <th>ACCOUNT_KEY</th>\n      <td>INTEGER</td>\n    </tr>\n    <tr>\n      <th>EXPENSE_UNIT_QUANTITY</th>\n      <td>DOUBLE</td>\n    </tr>\n    <tr>\n      <th>EXPENSE_TOTAL</th>\n      <td>DECIMAL</td>\n    </tr>\n  </tbody>\n</table>\n</div>"
                    }, 
                    "execution_count": 9, 
                    "metadata": {}, 
                    "output_type": "execute_result"
                }
            ]
        }, 
        {
            "source": "You can very easily explore the data in the IdaDataFrame by using built in functions.\n\nUse IdaDataFrame.head to get the first n records of your data set (default 5):", 
            "cell_type": "markdown", 
            "metadata": {}
        }, 
        {
            "source": "idadf.head()", 
            "cell_type": "code", 
            "metadata": {}, 
            "execution_count": 10, 
            "outputs": [
                {
                    "data": {
                        "text/plain": "    DAY_KEY  ORGANIZATION_KEY  POSITION_KEY  EMPLOYEE_KEY  EXPENSE_TYPE_KEY  \\\n0  20100131             11163         43639          4148              2131   \n1  20100131             11163         43639          4148              2124   \n2  20100131             11163         43639          4148              2120   \n3  20100131             11163         43639          4148              2122   \n4  20100131             11163         43639          4148              2130   \n\n   ACCOUNT_KEY  EXPENSE_UNIT_QUANTITY  EXPENSE_TOTAL  \n0         8049                165.000        4125.00  \n1         8056                  0.030         256.78  \n2         8052                  0.080         684.74  \n3         8054                  0.110         941.52  \n4         8050                  0.005        4434.23  ", 
                        "text/html": "<div>\n<table border=\"1\" class=\"dataframe\">\n  <thead>\n    <tr style=\"text-align: right;\">\n      <th></th>\n      <th>DAY_KEY</th>\n      <th>ORGANIZATION_KEY</th>\n      <th>POSITION_KEY</th>\n      <th>EMPLOYEE_KEY</th>\n      <th>EXPENSE_TYPE_KEY</th>\n      <th>ACCOUNT_KEY</th>\n      <th>EXPENSE_UNIT_QUANTITY</th>\n      <th>EXPENSE_TOTAL</th>\n    </tr>\n  </thead>\n  <tbody>\n    <tr>\n      <th>0</th>\n      <td>20100131</td>\n      <td>11163</td>\n      <td>43639</td>\n      <td>4148</td>\n      <td>2131</td>\n      <td>8049</td>\n      <td>165.000</td>\n      <td>4125.00</td>\n    </tr>\n    <tr>\n      <th>1</th>\n      <td>20100131</td>\n      <td>11163</td>\n      <td>43639</td>\n      <td>4148</td>\n      <td>2124</td>\n      <td>8056</td>\n      <td>0.030</td>\n      <td>256.78</td>\n    </tr>\n    <tr>\n      <th>2</th>\n      <td>20100131</td>\n      <td>11163</td>\n      <td>43639</td>\n      <td>4148</td>\n      <td>2120</td>\n      <td>8052</td>\n      <td>0.080</td>\n      <td>684.74</td>\n    </tr>\n    <tr>\n      <th>3</th>\n      <td>20100131</td>\n      <td>11163</td>\n      <td>43639</td>\n      <td>4148</td>\n      <td>2122</td>\n      <td>8054</td>\n      <td>0.110</td>\n      <td>941.52</td>\n    </tr>\n    <tr>\n      <th>4</th>\n      <td>20100131</td>\n      <td>11163</td>\n      <td>43639</td>\n      <td>4148</td>\n      <td>2130</td>\n      <td>8050</td>\n      <td>0.005</td>\n      <td>4434.23</td>\n    </tr>\n  </tbody>\n</table>\n</div>"
                    }, 
                    "execution_count": 10, 
                    "metadata": {}, 
                    "output_type": "execute_result"
                }
            ]
        }, 
        {
            "source": "Use IdaDataFrame.tail to get the last n records of your data set (default 5) -- try running this multiple times:", 
            "cell_type": "markdown", 
            "metadata": {}
        }, 
        {
            "source": "idadf.tail(10)", 
            "cell_type": "code", 
            "metadata": {
                "scrolled": true
            }, 
            "execution_count": 13, 
            "outputs": [
                {
                    "data": {
                        "text/plain": "         DAY_KEY  ORGANIZATION_KEY  POSITION_KEY  EMPLOYEE_KEY  \\\n127974  20130731             11120         43607          4652   \n127975  20130731             11120         43607          4652   \n127976  20130731             11120         43607          4652   \n127977  20130731             11120         43609          4653   \n127978  20130731             11120         43609          4653   \n127979  20130731             11120         43609          4653   \n127980  20130731             11120         43609          4653   \n127981  20130731             11120         43609          4653   \n127982  20130731             11120         43609          4653   \n127983  20130731             11120         43609          4653   \n\n        EXPENSE_TYPE_KEY  ACCOUNT_KEY  EXPENSE_UNIT_QUANTITY  EXPENSE_TOTAL  \n127974              2122         8054                   0.11         550.00  \n127975              2124         8056                   0.03         150.00  \n127976              2131         8049                 142.50        4318.18  \n127977              2101         8049                  82.50        1272.49  \n127978              2103         8050                  75.00        1156.80  \n127979              2104         8050                   7.50         115.68  \n127980              2114         8050                   8.25         185.63  \n127981              2120         8052                   0.08         218.45  \n127982              2122         8054                   0.11         300.37  \n127983              2124         8056                   0.03          81.92  ", 
                        "text/html": "<div>\n<table border=\"1\" class=\"dataframe\">\n  <thead>\n    <tr style=\"text-align: right;\">\n      <th></th>\n      <th>DAY_KEY</th>\n      <th>ORGANIZATION_KEY</th>\n      <th>POSITION_KEY</th>\n      <th>EMPLOYEE_KEY</th>\n      <th>EXPENSE_TYPE_KEY</th>\n      <th>ACCOUNT_KEY</th>\n      <th>EXPENSE_UNIT_QUANTITY</th>\n      <th>EXPENSE_TOTAL</th>\n    </tr>\n  </thead>\n  <tbody>\n    <tr>\n      <th>127974</th>\n      <td>20130731</td>\n      <td>11120</td>\n      <td>43607</td>\n      <td>4652</td>\n      <td>2122</td>\n      <td>8054</td>\n      <td>0.11</td>\n      <td>550.00</td>\n    </tr>\n    <tr>\n      <th>127975</th>\n      <td>20130731</td>\n      <td>11120</td>\n      <td>43607</td>\n      <td>4652</td>\n      <td>2124</td>\n      <td>8056</td>\n      <td>0.03</td>\n      <td>150.00</td>\n    </tr>\n    <tr>\n      <th>127976</th>\n      <td>20130731</td>\n      <td>11120</td>\n      <td>43607</td>\n      <td>4652</td>\n      <td>2131</td>\n      <td>8049</td>\n      <td>142.50</td>\n      <td>4318.18</td>\n    </tr>\n    <tr>\n      <th>127977</th>\n      <td>20130731</td>\n      <td>11120</td>\n      <td>43609</td>\n      <td>4653</td>\n      <td>2101</td>\n      <td>8049</td>\n      <td>82.50</td>\n      <td>1272.49</td>\n    </tr>\n    <tr>\n      <th>127978</th>\n      <td>20130731</td>\n      <td>11120</td>\n      <td>43609</td>\n      <td>4653</td>\n      <td>2103</td>\n      <td>8050</td>\n      <td>75.00</td>\n      <td>1156.80</td>\n    </tr>\n    <tr>\n      <th>127979</th>\n      <td>20130731</td>\n      <td>11120</td>\n      <td>43609</td>\n      <td>4653</td>\n      <td>2104</td>\n      <td>8050</td>\n      <td>7.50</td>\n      <td>115.68</td>\n    </tr>\n    <tr>\n      <th>127980</th>\n      <td>20130731</td>\n      <td>11120</td>\n      <td>43609</td>\n      <td>4653</td>\n      <td>2114</td>\n      <td>8050</td>\n      <td>8.25</td>\n      <td>185.63</td>\n    </tr>\n    <tr>\n      <th>127981</th>\n      <td>20130731</td>\n      <td>11120</td>\n      <td>43609</td>\n      <td>4653</td>\n      <td>2120</td>\n      <td>8052</td>\n      <td>0.08</td>\n      <td>218.45</td>\n    </tr>\n    <tr>\n      <th>127982</th>\n      <td>20130731</td>\n      <td>11120</td>\n      <td>43609</td>\n      <td>4653</td>\n      <td>2122</td>\n      <td>8054</td>\n      <td>0.11</td>\n      <td>300.37</td>\n    </tr>\n    <tr>\n      <th>127983</th>\n      <td>20130731</td>\n      <td>11120</td>\n      <td>43609</td>\n      <td>4653</td>\n      <td>2124</td>\n      <td>8056</td>\n      <td>0.03</td>\n      <td>81.92</td>\n    </tr>\n  </tbody>\n</table>\n</div>"
                    }, 
                    "execution_count": 13, 
                    "metadata": {}, 
                    "output_type": "execute_result"
                }
            ]
        }, 
        {
            "source": "__Note__: Because DB2 Warehouse operates on a distributed system, the order of rows using IdaDataFrame.head and IdaDataFrame.tail is not guaranteed unless the table is sorted (using an \u2018ORDER BY\u2019 clause) or a column is declared as index for the IdaDataFrame (parameter/attribute indexer).\n\nIdaDataFrame also implements most attributes that are available in a pandas DataFrame, here is an example of getting the _shape_ of the data frame (rows, columns):", 
            "cell_type": "markdown", 
            "metadata": {}
        }, 
        {
            "source": "idadf.shape", 
            "cell_type": "code", 
            "metadata": {}, 
            "execution_count": 14, 
            "outputs": [
                {
                    "data": {
                        "text/plain": "(127984, 8)"
                    }, 
                    "execution_count": 14, 
                    "metadata": {}, 
                    "output_type": "execute_result"
                }
            ]
        }, 
        {
            "source": "idadf.columns", 
            "cell_type": "code", 
            "metadata": {}, 
            "execution_count": 15, 
            "outputs": [
                {
                    "data": {
                        "text/plain": "Index(['DAY_KEY', 'ORGANIZATION_KEY', 'POSITION_KEY', 'EMPLOYEE_KEY',\n       'EXPENSE_TYPE_KEY', 'ACCOUNT_KEY', 'EXPENSE_UNIT_QUANTITY',\n       'EXPENSE_TOTAL'],\n      dtype='object')"
                    }, 
                    "execution_count": 15, 
                    "metadata": {}, 
                    "output_type": "execute_result"
                }
            ]
        }, 
        {
            "source": "Several standard statistics functions from the pandas interface are also available for IdaDataFrame.  You can use the __TAB__ key after the `.` to see the methods and attributes available in an object in a pulldown menu. \n\nFor example, let us calculate various summary statistics for the data set by using the `describe()` method for the IdaDataFrame instance:", 
            "cell_type": "markdown", 
            "metadata": {}
        }, 
        {
            "source": "idadf.d", 
            "cell_type": "code", 
            "metadata": {}, 
            "execution_count": 16, 
            "outputs": [
                {
                    "evalue": "'IdaDataFrame' object has no attribute 'd'", 
                    "traceback": [
                        "\u001b[1;31m\u001b[0m", 
                        "\u001b[1;31mAttributeError\u001b[0mTraceback (most recent call last)", 
                        "\u001b[1;32m<ipython-input-16-a43ae2faea93>\u001b[0m in \u001b[0;36m<module>\u001b[1;34m()\u001b[0m\n\u001b[1;32m----> 1\u001b[1;33m \u001b[0midadf\u001b[0m\u001b[1;33m.\u001b[0m\u001b[0md\u001b[0m\u001b[1;33m\u001b[0m\u001b[0m\n\u001b[0m", 
                        "\u001b[1;31mAttributeError\u001b[0m: 'IdaDataFrame' object has no attribute 'd'"
                    ], 
                    "ename": "AttributeError", 
                    "output_type": "error"
                }
            ]
        }, 
        {
            "source": "__Note__: It is possible to subset the rows of an IdaDataFrame by accessing the IdaDataFrame with a slice object. You can also use the IdaDataFrame.loc attribute, which contains an ibmdbpy.Loc object. However, the row selection might be inaccurate if the current IdaDataFrame is not sorted or does not contain an indexer. This is due to the fact that DB2 Warehouse stores the data across several nodes if available. Moreover, because DB2 Warehouse is by default a column oriented database, row numbers are undefined:", 
            "cell_type": "markdown", 
            "metadata": {}
        }, 
        {
            "source": "idadf_new = idadf[0:9] # Select the first 10 rows\nidadf_new.head(10)", 
            "cell_type": "code", 
            "metadata": {
                "scrolled": true
            }, 
            "execution_count": 17, 
            "outputs": [
                {
                    "name": "stderr", 
                    "output_type": "stream", 
                    "text": "/usr/local/src/conda3_runtime.v24/4.1.1/lib/python3.5/site-packages/ibmdbpy/indexing.py:118: UserWarning: Row order is not guaranteed if no indexer was given and the dataset was not sorted\n  \" was given and the dataset was not sorted\")\n"
                }, 
                {
                    "data": {
                        "text/plain": "    day_key  organization_key  position_key  employee_key  expense_type_key  \\\n0  20101031             11139         43619          4479              2124   \n1  20101031             11139         43619          4479              2131   \n2  20101130             11139         43619          4479              2103   \n3  20101130             11139         43619          4479              2131   \n4  20101130             11139         43619          4479              2124   \n5  20101130             11139         43619          4479              2122   \n6  20101130             11139         43619          4479              2120   \n7  20101231             11139         43619          4479              2120   \n8  20101231             11139         43619          4479              2124   \n9  20101231             11139         43619          4479              2122   \n\n   account_key  expense_unit_quantity  expense_total  \n0         8056                   0.03          81.44  \n1         8049                 146.25        2520.83  \n2         8050                  15.00         262.24  \n3         8049                 150.00        2585.46  \n4         8056                   0.03          85.43  \n5         8054                   0.11         313.25  \n6         8052                   0.08         227.82  \n7         8052                   0.08         230.77  \n8         8056                   0.03          86.54  \n9         8054                   0.11         317.31  ", 
                        "text/html": "<div>\n<table border=\"1\" class=\"dataframe\">\n  <thead>\n    <tr style=\"text-align: right;\">\n      <th></th>\n      <th>day_key</th>\n      <th>organization_key</th>\n      <th>position_key</th>\n      <th>employee_key</th>\n      <th>expense_type_key</th>\n      <th>account_key</th>\n      <th>expense_unit_quantity</th>\n      <th>expense_total</th>\n    </tr>\n  </thead>\n  <tbody>\n    <tr>\n      <th>0</th>\n      <td>20101031</td>\n      <td>11139</td>\n      <td>43619</td>\n      <td>4479</td>\n      <td>2124</td>\n      <td>8056</td>\n      <td>0.03</td>\n      <td>81.44</td>\n    </tr>\n    <tr>\n      <th>1</th>\n      <td>20101031</td>\n      <td>11139</td>\n      <td>43619</td>\n      <td>4479</td>\n      <td>2131</td>\n      <td>8049</td>\n      <td>146.25</td>\n      <td>2520.83</td>\n    </tr>\n    <tr>\n      <th>2</th>\n      <td>20101130</td>\n      <td>11139</td>\n      <td>43619</td>\n      <td>4479</td>\n      <td>2103</td>\n      <td>8050</td>\n      <td>15.00</td>\n      <td>262.24</td>\n    </tr>\n    <tr>\n      <th>3</th>\n      <td>20101130</td>\n      <td>11139</td>\n      <td>43619</td>\n      <td>4479</td>\n      <td>2131</td>\n      <td>8049</td>\n      <td>150.00</td>\n      <td>2585.46</td>\n    </tr>\n    <tr>\n      <th>4</th>\n      <td>20101130</td>\n      <td>11139</td>\n      <td>43619</td>\n      <td>4479</td>\n      <td>2124</td>\n      <td>8056</td>\n      <td>0.03</td>\n      <td>85.43</td>\n    </tr>\n    <tr>\n      <th>5</th>\n      <td>20101130</td>\n      <td>11139</td>\n      <td>43619</td>\n      <td>4479</td>\n      <td>2122</td>\n      <td>8054</td>\n      <td>0.11</td>\n      <td>313.25</td>\n    </tr>\n    <tr>\n      <th>6</th>\n      <td>20101130</td>\n      <td>11139</td>\n      <td>43619</td>\n      <td>4479</td>\n      <td>2120</td>\n      <td>8052</td>\n      <td>0.08</td>\n      <td>227.82</td>\n    </tr>\n    <tr>\n      <th>7</th>\n      <td>20101231</td>\n      <td>11139</td>\n      <td>43619</td>\n      <td>4479</td>\n      <td>2120</td>\n      <td>8052</td>\n      <td>0.08</td>\n      <td>230.77</td>\n    </tr>\n    <tr>\n      <th>8</th>\n      <td>20101231</td>\n      <td>11139</td>\n      <td>43619</td>\n      <td>4479</td>\n      <td>2124</td>\n      <td>8056</td>\n      <td>0.03</td>\n      <td>86.54</td>\n    </tr>\n    <tr>\n      <th>9</th>\n      <td>20101231</td>\n      <td>11139</td>\n      <td>43619</td>\n      <td>4479</td>\n      <td>2122</td>\n      <td>8054</td>\n      <td>0.11</td>\n      <td>317.31</td>\n    </tr>\n  </tbody>\n</table>\n</div>"
                    }, 
                    "execution_count": 17, 
                    "metadata": {}, 
                    "output_type": "execute_result"
                }
            ]
        }, 
        {
            "source": "<a id=\"Use-SQL\"></a>\n## Use SQL\nWe can also use SQL to get the top 10.", 
            "cell_type": "markdown", 
            "metadata": {}
        }, 
        {
            "source": "top_10_df = idadb.ida_query('SELECT * FROM GOSALESDW.EMP_EXPENSE_FACT LIMIT 10')\ntop_10_df", 
            "cell_type": "code", 
            "metadata": {}, 
            "execution_count": 18, 
            "outputs": [
                {
                    "data": {
                        "text/plain": "    day_key  organization_key  position_key  employee_key  expense_type_key  \\\n0  20100331             11107         43637          4146              2130   \n1  20100331             11107         43637          4146              2131   \n2  20100430             11107         43637          4146              2120   \n3  20100430             11107         43637          4146              2122   \n4  20100430             11107         43637          4146              2124   \n5  20100430             11107         43637          4146              2131   \n6  20100531             11107         43637          4146              2120   \n7  20100531             11107         43637          4146              2122   \n8  20100531             11107         43637          4146              2124   \n9  20100531             11107         43637          4146              2130   \n\n   account_key  expense_unit_quantity  expense_total  \n0         8050                  0.005         310.23  \n1         8049                157.500        2253.35  \n2         8052                  0.080         197.44  \n3         8054                  0.110         271.47  \n4         8056                  0.030          74.04  \n5         8049                165.000        2467.95  \n6         8052                  0.080          25.83  \n7         8054                  0.110          35.52  \n8         8056                  0.030           9.69  \n9         8050                  0.005         205.36  ", 
                        "text/html": "<div>\n<table border=\"1\" class=\"dataframe\">\n  <thead>\n    <tr style=\"text-align: right;\">\n      <th></th>\n      <th>day_key</th>\n      <th>organization_key</th>\n      <th>position_key</th>\n      <th>employee_key</th>\n      <th>expense_type_key</th>\n      <th>account_key</th>\n      <th>expense_unit_quantity</th>\n      <th>expense_total</th>\n    </tr>\n  </thead>\n  <tbody>\n    <tr>\n      <th>0</th>\n      <td>20100331</td>\n      <td>11107</td>\n      <td>43637</td>\n      <td>4146</td>\n      <td>2130</td>\n      <td>8050</td>\n      <td>0.005</td>\n      <td>310.23</td>\n    </tr>\n    <tr>\n      <th>1</th>\n      <td>20100331</td>\n      <td>11107</td>\n      <td>43637</td>\n      <td>4146</td>\n      <td>2131</td>\n      <td>8049</td>\n      <td>157.500</td>\n      <td>2253.35</td>\n    </tr>\n    <tr>\n      <th>2</th>\n      <td>20100430</td>\n      <td>11107</td>\n      <td>43637</td>\n      <td>4146</td>\n      <td>2120</td>\n      <td>8052</td>\n      <td>0.080</td>\n      <td>197.44</td>\n    </tr>\n    <tr>\n      <th>3</th>\n      <td>20100430</td>\n      <td>11107</td>\n      <td>43637</td>\n      <td>4146</td>\n      <td>2122</td>\n      <td>8054</td>\n      <td>0.110</td>\n      <td>271.47</td>\n    </tr>\n    <tr>\n      <th>4</th>\n      <td>20100430</td>\n      <td>11107</td>\n      <td>43637</td>\n      <td>4146</td>\n      <td>2124</td>\n      <td>8056</td>\n      <td>0.030</td>\n      <td>74.04</td>\n    </tr>\n    <tr>\n      <th>5</th>\n      <td>20100430</td>\n      <td>11107</td>\n      <td>43637</td>\n      <td>4146</td>\n      <td>2131</td>\n      <td>8049</td>\n      <td>165.000</td>\n      <td>2467.95</td>\n    </tr>\n    <tr>\n      <th>6</th>\n      <td>20100531</td>\n      <td>11107</td>\n      <td>43637</td>\n      <td>4146</td>\n      <td>2120</td>\n      <td>8052</td>\n      <td>0.080</td>\n      <td>25.83</td>\n    </tr>\n    <tr>\n      <th>7</th>\n      <td>20100531</td>\n      <td>11107</td>\n      <td>43637</td>\n      <td>4146</td>\n      <td>2122</td>\n      <td>8054</td>\n      <td>0.110</td>\n      <td>35.52</td>\n    </tr>\n    <tr>\n      <th>8</th>\n      <td>20100531</td>\n      <td>11107</td>\n      <td>43637</td>\n      <td>4146</td>\n      <td>2124</td>\n      <td>8056</td>\n      <td>0.030</td>\n      <td>9.69</td>\n    </tr>\n    <tr>\n      <th>9</th>\n      <td>20100531</td>\n      <td>11107</td>\n      <td>43637</td>\n      <td>4146</td>\n      <td>2130</td>\n      <td>8050</td>\n      <td>0.005</td>\n      <td>205.36</td>\n    </tr>\n  </tbody>\n</table>\n</div>"
                    }, 
                    "execution_count": 18, 
                    "metadata": {}, 
                    "output_type": "execute_result"
                }
            ]
        }, 
        {
            "source": "Find the top 10 employees (by id) by the number of transactions in the `GOSALESDW.EMP_EXPENSE_FACT` table.", 
            "cell_type": "markdown", 
            "metadata": {}
        }, 
        {
            "source": "idadb.ida_query('SELECT EMPLOYEE_KEY, COUNT(*) AS COUNT FROM GOSALESDW.EMP_EXPENSE_FACT GROUP BY EMPLOYEE_KEY ORDER BY COUNT DESC LIMIT 10')", 
            "cell_type": "code", 
            "metadata": {}, 
            "execution_count": 19, 
            "outputs": [
                {
                    "data": {
                        "text/plain": "   employee_key  count\n0          4112  263.0\n1          4134  263.0\n2          4135  261.0\n3          4019  260.0\n4          4368  260.0\n5          4053  260.0\n6          4016  260.0\n7          4480  259.0\n8          4129  259.0\n9          4157  258.0", 
                        "text/html": "<div>\n<table border=\"1\" class=\"dataframe\">\n  <thead>\n    <tr style=\"text-align: right;\">\n      <th></th>\n      <th>employee_key</th>\n      <th>count</th>\n    </tr>\n  </thead>\n  <tbody>\n    <tr>\n      <th>0</th>\n      <td>4112</td>\n      <td>263.0</td>\n    </tr>\n    <tr>\n      <th>1</th>\n      <td>4134</td>\n      <td>263.0</td>\n    </tr>\n    <tr>\n      <th>2</th>\n      <td>4135</td>\n      <td>261.0</td>\n    </tr>\n    <tr>\n      <th>3</th>\n      <td>4019</td>\n      <td>260.0</td>\n    </tr>\n    <tr>\n      <th>4</th>\n      <td>4368</td>\n      <td>260.0</td>\n    </tr>\n    <tr>\n      <th>5</th>\n      <td>4053</td>\n      <td>260.0</td>\n    </tr>\n    <tr>\n      <th>6</th>\n      <td>4016</td>\n      <td>260.0</td>\n    </tr>\n    <tr>\n      <th>7</th>\n      <td>4480</td>\n      <td>259.0</td>\n    </tr>\n    <tr>\n      <th>8</th>\n      <td>4129</td>\n      <td>259.0</td>\n    </tr>\n    <tr>\n      <th>9</th>\n      <td>4157</td>\n      <td>258.0</td>\n    </tr>\n  </tbody>\n</table>\n</div>"
                    }, 
                    "execution_count": 19, 
                    "metadata": {}, 
                    "output_type": "execute_result"
                }
            ]
        }, 
        {
            "source": "<a id=\"Explore-the-trafficking-data\"></a>\n## Explore the trafficking data\n__Time to apply what you've learned!__\n\nComplete the tasks that are commented in the code blocks.  If you get stuck, check out the hints.  If you're still stuck, read the solution.  If you have any questions, feel free to ask.", 
            "cell_type": "markdown", 
            "metadata": {}
        }, 
        {
            "source": "\nfrom ibmdbpy import IdaDataBase, IdaDataFrame\n\n   \nSelect the data cell you wish the code to be added to<br>\nSelect the Find and Add Data icon<br>\nSelect Connections<br>\nSelect Insert to Code for the connection you wish to use (there should only be one)<br>\nSelect Insert ibmdbpy IdaDataframe<br>\nSelect the Schema you used to load the data (this schema should start with DASH)<br>\nSelect the Table (there should only be one)<br>\nSelect Insert Code<br>\nRename the result to trafficking_df\n      </div>\n    </div>\n  </div>\n</div>", 
            "cell_type": "markdown", 
            "metadata": {}
        }, 
        {
            "source": "# The code was removed by DSX for sharing.", 
            "cell_type": "code", 
            "metadata": {}, 
            "execution_count": 23, 
            "outputs": [
                {
                    "data": {
                        "text/plain": "   INTERNAL_ID  VETTING_LEVEL DESCRIPTION  VETTING_LEVEL_PREDICTION  \\\n0            1            100          NA                        30   \n1            2             30          NA                        30   \n2            3            100          NA                        30   \n3            4            100          NA                        30   \n4            5             30          NA                        30   \n\n  ALGORITHM_NAME                      NAME GENDER  BIRTH_DATE BIRTH_COUNTRY  \\\n0  DECISION_TREE           Kathleen Bailey      F  1985-11-27         Ghana   \n1  DECISION_TREE             Kelly Robbins      F  1971-01-17      Pakistan   \n2  DECISION_TREE             Linda Stewart      F  1997-04-15         Ghana   \n3  DECISION_TREE  Stacey Courtney Gonzalez      F  1984-03-27         Ghana   \n4  DECISION_TREE        Erika Patie Fowler      F  1998-06-18         Ghana   \n\n  BIRTH_COUNTRY_CODE ... ARRIVAL_AIRPORT_COUNTRY_CODE ARRIVAL_AIRPORT_IATA  \\\n0                 GH ...                           US                  BMI   \n1                 PK ...                           US                  CLE   \n2                 GH ...                           US                  TPA   \n3                 GH ...                           US                  TOL   \n4                 GH ...                           US                  FWA   \n\n  ARRIVAL_AIRPORT_MUNICIPALITY  ARRIVAL_AIRPORT_REGION  \\\n0           Bloomington/Normal                   US-IL   \n1                    Cleveland                   US-OH   \n2                        Tampa                   US-FL   \n3                       Toledo                   US-OH   \n4                   Fort Wayne                   US-IN   \n\n  DEPARTURE_AIRPORT_COUNTRY_CODE DEPARTURE_AIRPORT_IATA  \\\n0                             AE                    AUH   \n1                             UA                    KBP   \n2                             RU                    KJA   \n3                             RU                    AER   \n4                             IE                    ORK   \n\n  DEPARTURE_AIRPORT_MUNICIPALITY  DEPARTURE_AIRPORT_REGION  \\\n0                      Abu Dhabi                     AE-AZ   \n1                           Kiev                     UA-32   \n2                    Krasnoyarsk                    RU-KYA   \n3                          Sochi                    RU-KDA   \n4                           Cork                      IE-C   \n\n                                   UUID AGE  \n0  81d28245-a6d4-40e3-bac0-df61cc6625ce  31  \n1  b4d817b3-2154-4351-b0e3-bcd736a76bf5  46  \n2  a52a6477-1f5e-4b09-a5e3-f76333a7eb10  19  \n3  5fcbbf15-8268-4306-ac26-406c2faae251  32  \n4  6d1fe59a-6828-4bc5-9ded-2194aa238461  18  \n\n[5 rows x 28 columns]", 
                        "text/html": "<div>\n<table border=\"1\" class=\"dataframe\">\n  <thead>\n    <tr style=\"text-align: right;\">\n      <th></th>\n      <th>INTERNAL_ID</th>\n      <th>VETTING_LEVEL</th>\n      <th>DESCRIPTION</th>\n      <th>VETTING_LEVEL_PREDICTION</th>\n      <th>ALGORITHM_NAME</th>\n      <th>NAME</th>\n      <th>GENDER</th>\n      <th>BIRTH_DATE</th>\n      <th>BIRTH_COUNTRY</th>\n      <th>BIRTH_COUNTRY_CODE</th>\n      <th>...</th>\n      <th>ARRIVAL_AIRPORT_COUNTRY_CODE</th>\n      <th>ARRIVAL_AIRPORT_IATA</th>\n      <th>ARRIVAL_AIRPORT_MUNICIPALITY</th>\n      <th>ARRIVAL_AIRPORT_REGION</th>\n      <th>DEPARTURE_AIRPORT_COUNTRY_CODE</th>\n      <th>DEPARTURE_AIRPORT_IATA</th>\n      <th>DEPARTURE_AIRPORT_MUNICIPALITY</th>\n      <th>DEPARTURE_AIRPORT_REGION</th>\n      <th>UUID</th>\n      <th>AGE</th>\n    </tr>\n  </thead>\n  <tbody>\n    <tr>\n      <th>0</th>\n      <td>1</td>\n      <td>100</td>\n      <td>NA</td>\n      <td>30</td>\n      <td>DECISION_TREE</td>\n      <td>Kathleen Bailey</td>\n      <td>F</td>\n      <td>1985-11-27</td>\n      <td>Ghana</td>\n      <td>GH</td>\n      <td>...</td>\n      <td>US</td>\n      <td>BMI</td>\n      <td>Bloomington/Normal</td>\n      <td>US-IL</td>\n      <td>AE</td>\n      <td>AUH</td>\n      <td>Abu Dhabi</td>\n      <td>AE-AZ</td>\n      <td>81d28245-a6d4-40e3-bac0-df61cc6625ce</td>\n      <td>31</td>\n    </tr>\n    <tr>\n      <th>1</th>\n      <td>2</td>\n      <td>30</td>\n      <td>NA</td>\n      <td>30</td>\n      <td>DECISION_TREE</td>\n      <td>Kelly Robbins</td>\n      <td>F</td>\n      <td>1971-01-17</td>\n      <td>Pakistan</td>\n      <td>PK</td>\n      <td>...</td>\n      <td>US</td>\n      <td>CLE</td>\n      <td>Cleveland</td>\n      <td>US-OH</td>\n      <td>UA</td>\n      <td>KBP</td>\n      <td>Kiev</td>\n      <td>UA-32</td>\n      <td>b4d817b3-2154-4351-b0e3-bcd736a76bf5</td>\n      <td>46</td>\n    </tr>\n    <tr>\n      <th>2</th>\n      <td>3</td>\n      <td>100</td>\n      <td>NA</td>\n      <td>30</td>\n      <td>DECISION_TREE</td>\n      <td>Linda Stewart</td>\n      <td>F</td>\n      <td>1997-04-15</td>\n      <td>Ghana</td>\n      <td>GH</td>\n      <td>...</td>\n      <td>US</td>\n      <td>TPA</td>\n      <td>Tampa</td>\n      <td>US-FL</td>\n      <td>RU</td>\n      <td>KJA</td>\n      <td>Krasnoyarsk</td>\n      <td>RU-KYA</td>\n      <td>a52a6477-1f5e-4b09-a5e3-f76333a7eb10</td>\n      <td>19</td>\n    </tr>\n    <tr>\n      <th>3</th>\n      <td>4</td>\n      <td>100</td>\n      <td>NA</td>\n      <td>30</td>\n      <td>DECISION_TREE</td>\n      <td>Stacey Courtney Gonzalez</td>\n      <td>F</td>\n      <td>1984-03-27</td>\n      <td>Ghana</td>\n      <td>GH</td>\n      <td>...</td>\n      <td>US</td>\n      <td>TOL</td>\n      <td>Toledo</td>\n      <td>US-OH</td>\n      <td>RU</td>\n      <td>AER</td>\n      <td>Sochi</td>\n      <td>RU-KDA</td>\n      <td>5fcbbf15-8268-4306-ac26-406c2faae251</td>\n      <td>32</td>\n    </tr>\n    <tr>\n      <th>4</th>\n      <td>5</td>\n      <td>30</td>\n      <td>NA</td>\n      <td>30</td>\n      <td>DECISION_TREE</td>\n      <td>Erika Patie Fowler</td>\n      <td>F</td>\n      <td>1998-06-18</td>\n      <td>Ghana</td>\n      <td>GH</td>\n      <td>...</td>\n      <td>US</td>\n      <td>FWA</td>\n      <td>Fort Wayne</td>\n      <td>US-IN</td>\n      <td>IE</td>\n      <td>ORK</td>\n      <td>Cork</td>\n      <td>IE-C</td>\n      <td>6d1fe59a-6828-4bc5-9ded-2194aa238461</td>\n      <td>18</td>\n    </tr>\n  </tbody>\n</table>\n<p>5 rows \u00d7 28 columns</p>\n</div>"
                    }, 
                    "execution_count": 23, 
                    "metadata": {}, 
                    "output_type": "execute_result"
                }
            ]
        }, 
        {
            "source": "idadb.exists_table_or_view(trafficking_df.name)\n\n# The output of this block should be:\n# True", 
            "cell_type": "code", 
            "metadata": {}, 
            "execution_count": 22, 
            "outputs": [
                {
                    "evalue": "name 'trafficking_df' is not defined", 
                    "traceback": [
                        "\u001b[1;31m\u001b[0m", 
                        "\u001b[1;31mNameError\u001b[0mTraceback (most recent call last)", 
                        "\u001b[1;32m<ipython-input-22-75d95ca93f4a>\u001b[0m in \u001b[0;36m<module>\u001b[1;34m()\u001b[0m\n\u001b[1;32m----> 1\u001b[1;33m \u001b[0midadb\u001b[0m\u001b[1;33m.\u001b[0m\u001b[0mexists_table_or_view\u001b[0m\u001b[1;33m(\u001b[0m\u001b[0mtrafficking_df\u001b[0m\u001b[1;33m.\u001b[0m\u001b[0mname\u001b[0m\u001b[1;33m)\u001b[0m\u001b[1;33m\u001b[0m\u001b[0m\n\u001b[0m\u001b[0;32m      2\u001b[0m \u001b[1;33m\u001b[0m\u001b[0m\n\u001b[0;32m      3\u001b[0m \u001b[1;31m# The output of this block should be:\u001b[0m\u001b[1;33m\u001b[0m\u001b[1;33m\u001b[0m\u001b[0m\n\u001b[0;32m      4\u001b[0m \u001b[0mtrafficking_df\u001b[0m\u001b[1;33m\u001b[0m\u001b[0m\n", 
                        "\u001b[1;31mNameError\u001b[0m: name 'trafficking_df' is not defined"
                    ], 
                    "ename": "NameError", 
                    "output_type": "error"
                }
            ]
        }, 
        {
            "source": "print(trafficking_df.shape)\ntrafficking_df.dtypes", 
            "cell_type": "code", 
            "metadata": {
                "collapsed": true
            }, 
            "execution_count": null, 
            "outputs": []
        }, 
        {
            "source": "### Show the top 5 records from the table using a method of the IdaDataFrame <br>\n<div class=\"panel-group\" id=\"accordion-12\">\n  <div class=\"panel panel-default\">\n    <div class=\"panel-heading\">\n      <h4 class=\"panel-title\"><a data-toggle=\"collapse\" data-parent=\"#accordion-12\" href=\"#collapse1-12\">Hint 1</a></h4>\n    </div>\n    <div id=\"collapse1-12\" class=\"panel-collapse collapse\">\n      <div class=\"panel-body\">\n      \nHeads or tails?\n      \n      </div>\n    </div>\n  </div>\n  <div class=\"panel panel-default\">\n    <div class=\"panel-heading\">\n      <h4 class=\"panel-title\"><a data-toggle=\"collapse\" data-parent=\"#accordion-12\" href=\"#collapse2-12\">Solution</a></h4>\n    </div>\n    <div id=\"collapse2-12\" class=\"panel-collapse collapse\">\n      <div class=\"panel-body\">\n      Heads!<br>\n<pre>\ntrafficking_df.head()\n</pre> \n      </div>\n    </div>\n  </div>\n</div>\n", 
            "cell_type": "markdown", 
            "metadata": {}
        }, 
        {
            "source": "trafficking_df.head(5)\n", 
            "cell_type": "code", 
            "metadata": {}, 
            "execution_count": 25, 
            "outputs": [
                {
                    "data": {
                        "text/plain": "   INTERNAL_ID  VETTING_LEVEL DESCRIPTION  VETTING_LEVEL_PREDICTION  \\\n0            1            100          NA                        30   \n1            2             30          NA                        30   \n2            3            100          NA                        30   \n3            4            100          NA                        30   \n4            5             30          NA                        30   \n\n  ALGORITHM_NAME                      NAME GENDER  BIRTH_DATE BIRTH_COUNTRY  \\\n0  DECISION_TREE           Kathleen Bailey      F  1985-11-27         Ghana   \n1  DECISION_TREE             Kelly Robbins      F  1971-01-17      Pakistan   \n2  DECISION_TREE             Linda Stewart      F  1997-04-15         Ghana   \n3  DECISION_TREE  Stacey Courtney Gonzalez      F  1984-03-27         Ghana   \n4  DECISION_TREE        Erika Patie Fowler      F  1998-06-18         Ghana   \n\n  BIRTH_COUNTRY_CODE ... ARRIVAL_AIRPORT_COUNTRY_CODE ARRIVAL_AIRPORT_IATA  \\\n0                 GH ...                           US                  BMI   \n1                 PK ...                           US                  CLE   \n2                 GH ...                           US                  TPA   \n3                 GH ...                           US                  TOL   \n4                 GH ...                           US                  FWA   \n\n  ARRIVAL_AIRPORT_MUNICIPALITY  ARRIVAL_AIRPORT_REGION  \\\n0           Bloomington/Normal                   US-IL   \n1                    Cleveland                   US-OH   \n2                        Tampa                   US-FL   \n3                       Toledo                   US-OH   \n4                   Fort Wayne                   US-IN   \n\n  DEPARTURE_AIRPORT_COUNTRY_CODE DEPARTURE_AIRPORT_IATA  \\\n0                             AE                    AUH   \n1                             UA                    KBP   \n2                             RU                    KJA   \n3                             RU                    AER   \n4                             IE                    ORK   \n\n  DEPARTURE_AIRPORT_MUNICIPALITY  DEPARTURE_AIRPORT_REGION  \\\n0                      Abu Dhabi                     AE-AZ   \n1                           Kiev                     UA-32   \n2                    Krasnoyarsk                    RU-KYA   \n3                          Sochi                    RU-KDA   \n4                           Cork                      IE-C   \n\n                                   UUID AGE  \n0  81d28245-a6d4-40e3-bac0-df61cc6625ce  31  \n1  b4d817b3-2154-4351-b0e3-bcd736a76bf5  46  \n2  a52a6477-1f5e-4b09-a5e3-f76333a7eb10  19  \n3  5fcbbf15-8268-4306-ac26-406c2faae251  32  \n4  6d1fe59a-6828-4bc5-9ded-2194aa238461  18  \n\n[5 rows x 28 columns]", 
                        "text/html": "<div>\n<table border=\"1\" class=\"dataframe\">\n  <thead>\n    <tr style=\"text-align: right;\">\n      <th></th>\n      <th>INTERNAL_ID</th>\n      <th>VETTING_LEVEL</th>\n      <th>DESCRIPTION</th>\n      <th>VETTING_LEVEL_PREDICTION</th>\n      <th>ALGORITHM_NAME</th>\n      <th>NAME</th>\n      <th>GENDER</th>\n      <th>BIRTH_DATE</th>\n      <th>BIRTH_COUNTRY</th>\n      <th>BIRTH_COUNTRY_CODE</th>\n      <th>...</th>\n      <th>ARRIVAL_AIRPORT_COUNTRY_CODE</th>\n      <th>ARRIVAL_AIRPORT_IATA</th>\n      <th>ARRIVAL_AIRPORT_MUNICIPALITY</th>\n      <th>ARRIVAL_AIRPORT_REGION</th>\n      <th>DEPARTURE_AIRPORT_COUNTRY_CODE</th>\n      <th>DEPARTURE_AIRPORT_IATA</th>\n      <th>DEPARTURE_AIRPORT_MUNICIPALITY</th>\n      <th>DEPARTURE_AIRPORT_REGION</th>\n      <th>UUID</th>\n      <th>AGE</th>\n    </tr>\n  </thead>\n  <tbody>\n    <tr>\n      <th>0</th>\n      <td>1</td>\n      <td>100</td>\n      <td>NA</td>\n      <td>30</td>\n      <td>DECISION_TREE</td>\n      <td>Kathleen Bailey</td>\n      <td>F</td>\n      <td>1985-11-27</td>\n      <td>Ghana</td>\n      <td>GH</td>\n      <td>...</td>\n      <td>US</td>\n      <td>BMI</td>\n      <td>Bloomington/Normal</td>\n      <td>US-IL</td>\n      <td>AE</td>\n      <td>AUH</td>\n      <td>Abu Dhabi</td>\n      <td>AE-AZ</td>\n      <td>81d28245-a6d4-40e3-bac0-df61cc6625ce</td>\n      <td>31</td>\n    </tr>\n    <tr>\n      <th>1</th>\n      <td>2</td>\n      <td>30</td>\n      <td>NA</td>\n      <td>30</td>\n      <td>DECISION_TREE</td>\n      <td>Kelly Robbins</td>\n      <td>F</td>\n      <td>1971-01-17</td>\n      <td>Pakistan</td>\n      <td>PK</td>\n      <td>...</td>\n      <td>US</td>\n      <td>CLE</td>\n      <td>Cleveland</td>\n      <td>US-OH</td>\n      <td>UA</td>\n      <td>KBP</td>\n      <td>Kiev</td>\n      <td>UA-32</td>\n      <td>b4d817b3-2154-4351-b0e3-bcd736a76bf5</td>\n      <td>46</td>\n    </tr>\n    <tr>\n      <th>2</th>\n      <td>3</td>\n      <td>100</td>\n      <td>NA</td>\n      <td>30</td>\n      <td>DECISION_TREE</td>\n      <td>Linda Stewart</td>\n      <td>F</td>\n      <td>1997-04-15</td>\n      <td>Ghana</td>\n      <td>GH</td>\n      <td>...</td>\n      <td>US</td>\n      <td>TPA</td>\n      <td>Tampa</td>\n      <td>US-FL</td>\n      <td>RU</td>\n      <td>KJA</td>\n      <td>Krasnoyarsk</td>\n      <td>RU-KYA</td>\n      <td>a52a6477-1f5e-4b09-a5e3-f76333a7eb10</td>\n      <td>19</td>\n    </tr>\n    <tr>\n      <th>3</th>\n      <td>4</td>\n      <td>100</td>\n      <td>NA</td>\n      <td>30</td>\n      <td>DECISION_TREE</td>\n      <td>Stacey Courtney Gonzalez</td>\n      <td>F</td>\n      <td>1984-03-27</td>\n      <td>Ghana</td>\n      <td>GH</td>\n      <td>...</td>\n      <td>US</td>\n      <td>TOL</td>\n      <td>Toledo</td>\n      <td>US-OH</td>\n      <td>RU</td>\n      <td>AER</td>\n      <td>Sochi</td>\n      <td>RU-KDA</td>\n      <td>5fcbbf15-8268-4306-ac26-406c2faae251</td>\n      <td>32</td>\n    </tr>\n    <tr>\n      <th>4</th>\n      <td>5</td>\n      <td>30</td>\n      <td>NA</td>\n      <td>30</td>\n      <td>DECISION_TREE</td>\n      <td>Erika Patie Fowler</td>\n      <td>F</td>\n      <td>1998-06-18</td>\n      <td>Ghana</td>\n      <td>GH</td>\n      <td>...</td>\n      <td>US</td>\n      <td>FWA</td>\n      <td>Fort Wayne</td>\n      <td>US-IN</td>\n      <td>IE</td>\n      <td>ORK</td>\n      <td>Cork</td>\n      <td>IE-C</td>\n      <td>6d1fe59a-6828-4bc5-9ded-2194aa238461</td>\n      <td>18</td>\n    </tr>\n  </tbody>\n</table>\n<p>5 rows \u00d7 28 columns</p>\n</div>"
                    }, 
                    "execution_count": 25, 
                    "metadata": {}, 
                    "output_type": "execute_result"
                }
            ]
        }, 
        {
            "source": "### Query the trafficking table so that we get the vetting_level and the number of times that vetting_level appears in the trafficking table, ordered by the vetting_level<br>\n<div class=\"panel-group\" id=\"accordion-13\">\n  <div class=\"panel panel-default\">\n    <div class=\"panel-heading\">\n      <h4 class=\"panel-title\"><a data-toggle=\"collapse\" data-parent=\"#accordion-13\" href=\"#collapse1-13\">Hint 1</a></h4>\n    </div>\n    <div id=\"collapse1-13\" class=\"panel-collapse collapse\">\n      <div class=\"panel-body\">\n      \nIt is similar to:\n\n<pre>\n<resource>.ida_query('SELECT EMPLOYEE_KEY, COUNT(&#42;) AS COUNT FROM GOSALESDW.EMP_EXPENSE_FACT GROUP BY EMPLOYEE_KEY ORDER BY COUNT DESC LIMIT 10')\n</pre>\n      \n      </div>\n    </div>\n  </div>\n  <div class=\"panel panel-default\">\n    <div class=\"panel-heading\">\n      <h4 class=\"panel-title\"><a data-toggle=\"collapse\" data-parent=\"#accordion-13\" href=\"#collapse2-13\">Hint 2</a></h4>\n    </div>\n    <div id=\"collapse2-13\" class=\"panel-collapse collapse\">\n      <div class=\"panel-body\">\n      \nThe SQL query is:\n\n<pre>\n'SELECT VETTING_LEVEL, COUNT(&#42;) AS COUNT FROM ' + trafficking_table + ' GROUP BY VETTING_LEVEL ORDER BY VETTING_LEVEL'\n</pre>\n      \n      </div>\n    </div>\n  </div>\n  <div class=\"panel panel-default\">\n    <div class=\"panel-heading\">\n      <h4 class=\"panel-title\"><a data-toggle=\"collapse\" data-parent=\"#accordion-13\" href=\"#collapse3-13\">Solution 1</a></h4>\n    </div>\n    <div id=\"collapse3-13\" class=\"panel-collapse collapse\">\n      <div class=\"panel-body\">\n      \n<pre>\nidadb.ida_query('SELECT VETTING_LEVEL, COUNT(&#42;) AS COUNT FROM ' + trafficking_df.name + ' GROUP BY VETTING_LEVEL ORDER BY VETTING_LEVEL')\n</pre>\n\n      </div>\n    </div>\n  </div>\n    <div class=\"panel panel-default\">\n    <div class=\"panel-heading\">\n      <h4 class=\"panel-title\"><a data-toggle=\"collapse\" data-parent=\"#accordion-13\" href=\"#collapse3-14\">Solution 2</a></h4>\n    </div>\n    <div id=\"collapse3-14\" class=\"panel-collapse collapse\">\n      <div class=\"panel-body\">\n      \n<pre>\ntrafficking_df.ida_query('SELECT VETTING_LEVEL, COUNT(&#42;) AS COUNT FROM ' + trafficking_df.name + ' GROUP BY VETTING_LEVEL ORDER BY VETTING_LEVEL')\n</pre>\n\n      </div>\n    </div>\n  </div>\n</div>\n", 
            "cell_type": "markdown", 
            "metadata": {}
        }, 
        {
            "source": "idadb.ida_query('SELECT VETTING_LEVEL, COUNT(*) AS COUNT FROM ' + trafficking_df.name + ' GROUP BY VETTING_LEVEL ORDER BY VETTING_LEVEL')", 
            "cell_type": "code", 
            "metadata": {}, 
            "execution_count": 26, 
            "outputs": [
                {
                    "data": {
                        "text/plain": "   vetting_level  count\n0             10   42.0\n1             20   40.0\n2             30   96.0\n3            100  907.0", 
                        "text/html": "<div>\n<table border=\"1\" class=\"dataframe\">\n  <thead>\n    <tr style=\"text-align: right;\">\n      <th></th>\n      <th>vetting_level</th>\n      <th>count</th>\n    </tr>\n  </thead>\n  <tbody>\n    <tr>\n      <th>0</th>\n      <td>10</td>\n      <td>42.0</td>\n    </tr>\n    <tr>\n      <th>1</th>\n      <td>20</td>\n      <td>40.0</td>\n    </tr>\n    <tr>\n      <th>2</th>\n      <td>30</td>\n      <td>96.0</td>\n    </tr>\n    <tr>\n      <th>3</th>\n      <td>100</td>\n      <td>907.0</td>\n    </tr>\n  </tbody>\n</table>\n</div>"
                    }, 
                    "execution_count": 26, 
                    "metadata": {}, 
                    "output_type": "execute_result"
                }
            ]
        }, 
        {
            "source": "<a id=\"Close-the-database-connection\"></a>\n## Close the database connection\n\nTo ensure expected behaviors, IdaDataBase instances need to be closed.\n\n__Note__: Closing the *IdaDataBase* is equivalent to closing the connection: once the connection is closed, it is no longer possible to use the *IdaDataBase* instance and any *IdaDataFrame* instances that were opened on this connection.", 
            "cell_type": "markdown", 
            "metadata": {}
        }, 
        {
            "source": "idadb.close()", 
            "cell_type": "code", 
            "metadata": {}, 
            "execution_count": 27, 
            "outputs": [
                {
                    "name": "stdout", 
                    "output_type": "stream", 
                    "text": "Connection closed.\n"
                }
            ]
        }, 
        {
            "source": "<a id=\"Share\"></a>\n## Share the notebook\nYou can share a notebook by selecting the Share icon.<br>\n<img alt=\"IBM Bluemix.Get started now\" src=\"https://raw.githubusercontent.com/jpatter/DSX/master/Lab-1/images/share-button.png\" ><br>\nThis displays a Share Notebook popup which gives the user a link which can can be sent to other users.   Anyone with the link will see the most recent version of the notebook.   The user can determine what level of notebook information will be shared.\n<img alt=\"IBM Bluemix.Get started now\" src=\"https://raw.githubusercontent.com/jpatter/DSX/master/Lab-1/images/Share-Window.PNG\" ><br>", 
            "cell_type": "markdown", 
            "metadata": {}
        }, 
        {
            "source": "<a id=\"GitHub\"></a>\n## Publish the notebook to gist/GitHub\n\nSelect the Github/Gist integration icon from the command bar (it looks like an open box with an arrow pointing up).<br>\n<img alt=\"IBM Bluemix.Get started now\" src=\"https://raw.githubusercontent.com/jpatter/DSX/master/Lab-1/images/github-button.png\" ><br>\n\nIf you wish to publish to a gist, nothing more is needed.   However, if you want to publish to github, you will need a security token.\n\nSelect Publish on GitHub<br>\n<img alt=\"IBM Bluemix.Get started now\" src=\"https://raw.githubusercontent.com/jpatter/DSX/master/Lab-1/images/NoGitHub.PNG\" ><br>\nYou will get a popup stating that you need to set a token in your account settings.   This can be reached by selecting the account settings link in the popup or by selecting your personal icon (upper right hand corner) and selecting settings.\n\n<img alt=\"IBM Bluemix.Get started now\" src=\"https://raw.githubusercontent.com/jpatter/DSX/master/Lab-1/images/Profile.PNG\" ><br>\nIn the Profile settings page select Integrations and paste your github token there.   \n\n<img alt=\"IBM Bluemix.Get started now\" src=\"https://raw.githubusercontent.com/jpatter/DSX/master/Lab-1/images/Integrations.PNG\" ><br>\nI have provided one for you should you wish to try this which uses the account at http://github.com/dsxspare3/DSX-Demo\n\nI broke it into two pieces because otherwise github will delete it when publishing to github because it is a valid token.   Paste them together when putting in the github token in DSX.\n\nPart 1: 8e8ff3b15d92438fc4  Part 2: a2a0aad611310d2562d8b5\n\nFinally, you need to add the URL for the GitHub in the Settings section of your project.\n\n<img alt=\"IBM Bluemix.Get started now\" src=\"https://raw.githubusercontent.com/jpatter/DSX/master/Lab-1/images/ProjectSettings.PNG\" ><br>\n\n<img alt=\"IBM Bluemix.Get started now\" src=\"https://raw.githubusercontent.com/jpatter/DSX/master/Lab-1/images/GitHubURL.PNG\" ><br>\n\nYou should now be able to publish to GitHub for this project.   When publishing, you are asked for the path to save.   Since all users will be using the same GitHub I suggest publishing to a folder with your username.", 
            "cell_type": "markdown", 
            "metadata": {}
        }, 
        {
            "source": "<a id=\"Help\"></a>\n## Get Help\n\nSelect the icon in the lower right corner \n<img alt=\"IBM Bluemix.Get started now\" src=\"https://raw.githubusercontent.com/jpatter/DSX/master/Lab-1/images/Help-Icon.PNG\"/>\nto display a help window connecting to IBM DSX Support.\n<img alt=\"IBM Bluemix.Get started now\" src=\"https://raw.githubusercontent.com/jpatter/DSX/master/Lab-1/images/Help-Window.PNG\"/>", 
            "cell_type": "markdown", 
            "metadata": {}
        }, 
        {
            "source": "<a id=\"Summary\"></a>\n## Summary\n\nThis notebook demonstrated how to establish a JDBC connection to a DB2 Warehouse (or DB2) database from Python, work with data frames and explore the data using SQL and data frame object attributes and methods.", 
            "cell_type": "markdown", 
            "metadata": {}
        }, 
        {
            "source": "## Take it farther\n### Free courses on <a href=\"https://cognitiveclass.ai/courses/?utm_source=tutorial-dashdb-python&utm_medium=github&utm_campaign=bdu/\" rel=\"noopener noreferrer\" target=\"_blank\">Cognitive Class.ai</a>: <a href=\"https://bigdatauniversity.com/courses/?utm_source=tutorial-dashdb-python&utm_medium=github&utm_campaign=bdu\" rel=\"noopener noreferrer\" target=\"_blank\"><img src = \"https://ibm.box.com/shared/static/xomeu7dacwufkoawbg3owc8wzuezltn6.png\" width=600px> </a>", 
            "cell_type": "markdown", 
            "metadata": {}
        }, 
        {
            "source": "", 
            "cell_type": "code", 
            "metadata": {
                "collapsed": true
            }, 
            "execution_count": null, 
            "outputs": []
        }
    ], 
    "metadata": {
        "language_info": {
            "pygments_lexer": "ipython3", 
            "codemirror_mode": {
                "version": 3, 
                "name": "ipython"
            }, 
            "mimetype": "text/x-python", 
            "name": "python", 
            "file_extension": ".py", 
            "version": "3.5.2", 
            "nbconvert_exporter": "python"
        }, 
        "kernelspec": {
            "language": "python", 
            "display_name": "Python 3.5 (Experimental) with Spark 2.1", 
            "name": "python3-spark21"
        }
    }, 
    "nbformat_minor": 1
}